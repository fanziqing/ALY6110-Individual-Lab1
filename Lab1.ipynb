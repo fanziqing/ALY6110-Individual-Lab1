{
  "nbformat": 4,
  "nbformat_minor": 0,
  "metadata": {
    "colab": {
      "provenance": [],
      "authorship_tag": "ABX9TyNbMi4Bh2uBCsAiSxKcerb5",
      "include_colab_link": true
    },
    "kernelspec": {
      "name": "python3",
      "display_name": "Python 3"
    },
    "language_info": {
      "name": "python"
    }
  },
  "cells": [
    {
      "cell_type": "markdown",
      "metadata": {
        "id": "view-in-github",
        "colab_type": "text"
      },
      "source": [
        "<a href=\"https://colab.research.google.com/github/fanziqing/ALY6110-Individual-Lab1/blob/main/Lab1.ipynb\" target=\"_parent\"><img src=\"https://colab.research.google.com/assets/colab-badge.svg\" alt=\"Open In Colab\"/></a>"
      ]
    },
    {
      "cell_type": "markdown",
      "source": [
        "#Setup for running PySpark"
      ],
      "metadata": {
        "id": "fPOVLSgUGxCj"
      }
    },
    {
      "cell_type": "code",
      "execution_count": 45,
      "metadata": {
        "id": "jPJ-gNRMCcfP"
      },
      "outputs": [],
      "source": [
        "# install java\n",
        "!apt-get install openjdk-8-jdk-headless -qq > /dev/null\n",
        "\n",
        "# install Spark (change the version number if needed)\n",
        "!wget -q https://archive.apache.org/dist/spark/spark-3.0.0/spark-3.0.0-bin-hadoop3.2.tgz\n",
        "\n",
        "# unzip the Spark file to the current folder\n",
        "!tar xf spark-3.0.0-bin-hadoop3.2.tgz\n",
        "\n",
        "# set your Spark folder to your system path environment\n",
        "import os\n",
        "os.environ[\"JAVA_HOME\"] = \"/usr/lib/jvm/java-8-openjdk-amd64\"\n",
        "os.environ[\"SPARK_HOME\"] = \"/content/spark-3.0.0-bin-hadoop3.2\"\n",
        "\n",
        "# install findspark using pip\n",
        "!pip install -q findspark\n",
        "\n",
        "import findspark\n",
        "findspark.init()\n",
        "from pyspark.sql import SparkSession\n",
        "spark = SparkSession.builder.master(\"local[*]\").getOrCreate()"
      ]
    },
    {
      "cell_type": "markdown",
      "source": [
        "# Module 3 Lab — Individual Lab #1"
      ],
      "metadata": {
        "id": "XB3yr8rHesV9"
      }
    },
    {
      "cell_type": "code",
      "source": [
        "# 1 .Obtain the complete Boston Housing dataset\n",
        "path = \"/content/BostonHousing.csv\"\n",
        "df = spark.read.csv(path,header=True,inferSchema=True)"
      ],
      "metadata": {
        "id": "ujB1YGmfCuN6"
      },
      "execution_count": 46,
      "outputs": []
    },
    {
      "cell_type": "code",
      "source": [
        "# 2. Show the first 5 rows of the dataset\n",
        "df.show(5)"
      ],
      "metadata": {
        "colab": {
          "base_uri": "https://localhost:8080/"
        },
        "id": "v0nUkMDdDzV0",
        "outputId": "b3fd625f-9aa1-4719-87ef-1e58d7383449"
      },
      "execution_count": 47,
      "outputs": [
        {
          "output_type": "stream",
          "name": "stdout",
          "text": [
            "+-------+----+-----+----+-----+-----+----+------+---+---+-------+------+-----+----+\n",
            "|   crim|  zn|indus|chas|  nox|   rm| age|   dis|rad|tax|ptratio|     b|lstat|medv|\n",
            "+-------+----+-----+----+-----+-----+----+------+---+---+-------+------+-----+----+\n",
            "|0.00632|18.0| 2.31|   0|0.538|6.575|65.2|  4.09|  1|296|   15.3| 396.9| 4.98|24.0|\n",
            "|0.02731| 0.0| 7.07|   0|0.469|6.421|78.9|4.9671|  2|242|   17.8| 396.9| 9.14|21.6|\n",
            "|0.02729| 0.0| 7.07|   0|0.469|7.185|61.1|4.9671|  2|242|   17.8|392.83| 4.03|34.7|\n",
            "|0.03237| 0.0| 2.18|   0|0.458|6.998|45.8|6.0622|  3|222|   18.7|394.63| 2.94|33.4|\n",
            "|0.06905| 0.0| 2.18|   0|0.458|7.147|54.2|6.0622|  3|222|   18.7| 396.9| 5.33|36.2|\n",
            "+-------+----+-----+----+-----+-----+----+------+---+---+-------+------+-----+----+\n",
            "only showing top 5 rows\n",
            "\n"
          ]
        }
      ]
    },
    {
      "cell_type": "code",
      "source": [
        "# 3. Count number of observation in the given dataset\n",
        "num_obs = df.count()\n",
        "num_obs"
      ],
      "metadata": {
        "colab": {
          "base_uri": "https://localhost:8080/"
        },
        "id": "dojPrMp3EF8Z",
        "outputId": "36d24c99-7877-4152-8c10-9cb143845184"
      },
      "execution_count": 48,
      "outputs": [
        {
          "output_type": "execute_result",
          "data": {
            "text/plain": [
              "506"
            ]
          },
          "metadata": {},
          "execution_count": 48
        }
      ]
    },
    {
      "cell_type": "code",
      "source": [
        "# 4. Show the Schema of your dataset\n",
        "df.printSchema()"
      ],
      "metadata": {
        "id": "4chQCX_gGLsc",
        "colab": {
          "base_uri": "https://localhost:8080/"
        },
        "outputId": "3c3d5b86-6c91-458e-8d1f-60682c202048"
      },
      "execution_count": 49,
      "outputs": [
        {
          "output_type": "stream",
          "name": "stdout",
          "text": [
            "root\n",
            " |-- crim: double (nullable = true)\n",
            " |-- zn: double (nullable = true)\n",
            " |-- indus: double (nullable = true)\n",
            " |-- chas: integer (nullable = true)\n",
            " |-- nox: double (nullable = true)\n",
            " |-- rm: double (nullable = true)\n",
            " |-- age: double (nullable = true)\n",
            " |-- dis: double (nullable = true)\n",
            " |-- rad: integer (nullable = true)\n",
            " |-- tax: integer (nullable = true)\n",
            " |-- ptratio: double (nullable = true)\n",
            " |-- b: double (nullable = true)\n",
            " |-- lstat: double (nullable = true)\n",
            " |-- medv: double (nullable = true)\n",
            "\n"
          ]
        }
      ]
    },
    {
      "cell_type": "code",
      "source": [
        "# 5. Drop the column \"b\" from your dataset\n",
        "df_dropb = df.drop('b')\n",
        "df_dropb.show(5)"
      ],
      "metadata": {
        "colab": {
          "base_uri": "https://localhost:8080/"
        },
        "id": "QEU0RmsBGiO5",
        "outputId": "22a62b0b-0b9c-41a6-8757-e2ed91482787"
      },
      "execution_count": 50,
      "outputs": [
        {
          "output_type": "stream",
          "name": "stdout",
          "text": [
            "+-------+----+-----+----+-----+-----+----+------+---+---+-------+-----+----+\n",
            "|   crim|  zn|indus|chas|  nox|   rm| age|   dis|rad|tax|ptratio|lstat|medv|\n",
            "+-------+----+-----+----+-----+-----+----+------+---+---+-------+-----+----+\n",
            "|0.00632|18.0| 2.31|   0|0.538|6.575|65.2|  4.09|  1|296|   15.3| 4.98|24.0|\n",
            "|0.02731| 0.0| 7.07|   0|0.469|6.421|78.9|4.9671|  2|242|   17.8| 9.14|21.6|\n",
            "|0.02729| 0.0| 7.07|   0|0.469|7.185|61.1|4.9671|  2|242|   17.8| 4.03|34.7|\n",
            "|0.03237| 0.0| 2.18|   0|0.458|6.998|45.8|6.0622|  3|222|   18.7| 2.94|33.4|\n",
            "|0.06905| 0.0| 2.18|   0|0.458|7.147|54.2|6.0622|  3|222|   18.7| 5.33|36.2|\n",
            "+-------+----+-----+----+-----+-----+----+------+---+---+-------+-----+----+\n",
            "only showing top 5 rows\n",
            "\n"
          ]
        }
      ]
    },
    {
      "cell_type": "code",
      "source": [
        "# 6. Round all of the numerical columns into two decimal place\n",
        "from pyspark.sql.functions import col, format_number\n",
        "from pyspark.sql.types import DoubleType, IntegerType\n",
        "\n",
        "for column in df_dropb.columns:\n",
        "    if isinstance(df.schema[column].dataType, (DoubleType, IntegerType)):\n",
        "        df = df.withColumn(column, format_number(col(column).cast(\"double\"), 2))\n",
        "df.show(5)\n"
      ],
      "metadata": {
        "colab": {
          "base_uri": "https://localhost:8080/"
        },
        "id": "69DyAQWSKEnZ",
        "outputId": "b06882ce-92b5-4c42-adc8-eb580ebffbd8"
      },
      "execution_count": 51,
      "outputs": [
        {
          "output_type": "stream",
          "name": "stdout",
          "text": [
            "+----+-----+-----+----+----+----+-----+----+----+------+-------+------+-----+-----+\n",
            "|crim|   zn|indus|chas| nox|  rm|  age| dis| rad|   tax|ptratio|     b|lstat| medv|\n",
            "+----+-----+-----+----+----+----+-----+----+----+------+-------+------+-----+-----+\n",
            "|0.01|18.00| 2.31|0.00|0.54|6.58|65.20|4.09|1.00|296.00|  15.30| 396.9| 4.98|24.00|\n",
            "|0.03| 0.00| 7.07|0.00|0.47|6.42|78.90|4.97|2.00|242.00|  17.80| 396.9| 9.14|21.60|\n",
            "|0.03| 0.00| 7.07|0.00|0.47|7.18|61.10|4.97|2.00|242.00|  17.80|392.83| 4.03|34.70|\n",
            "|0.03| 0.00| 2.18|0.00|0.46|7.00|45.80|6.06|3.00|222.00|  18.70|394.63| 2.94|33.40|\n",
            "|0.07| 0.00| 2.18|0.00|0.46|7.15|54.20|6.06|3.00|222.00|  18.70| 396.9| 5.33|36.20|\n",
            "+----+-----+-----+----+----+----+-----+----+----+------+-------+------+-----+-----+\n",
            "only showing top 5 rows\n",
            "\n"
          ]
        }
      ]
    },
    {
      "cell_type": "code",
      "source": [
        "# 7. Create a new column (Age10)  with 10% increasing of 'age' column\n",
        "df_age = df.withColumn('Age10', round(col('age') * 1.10, 2))\n",
        "df_age.show(5)"
      ],
      "metadata": {
        "colab": {
          "base_uri": "https://localhost:8080/"
        },
        "id": "RjKMujIYLumJ",
        "outputId": "975ab746-fddd-4881-cdbc-40a299cbe972"
      },
      "execution_count": 52,
      "outputs": [
        {
          "output_type": "stream",
          "name": "stdout",
          "text": [
            "+----+-----+-----+----+----+----+-----+----+----+------+-------+------+-----+-----+-----+\n",
            "|crim|   zn|indus|chas| nox|  rm|  age| dis| rad|   tax|ptratio|     b|lstat| medv|Age10|\n",
            "+----+-----+-----+----+----+----+-----+----+----+------+-------+------+-----+-----+-----+\n",
            "|0.01|18.00| 2.31|0.00|0.54|6.58|65.20|4.09|1.00|296.00|  15.30| 396.9| 4.98|24.00|71.72|\n",
            "|0.03| 0.00| 7.07|0.00|0.47|6.42|78.90|4.97|2.00|242.00|  17.80| 396.9| 9.14|21.60|86.79|\n",
            "|0.03| 0.00| 7.07|0.00|0.47|7.18|61.10|4.97|2.00|242.00|  17.80|392.83| 4.03|34.70|67.21|\n",
            "|0.03| 0.00| 2.18|0.00|0.46|7.00|45.80|6.06|3.00|222.00|  18.70|394.63| 2.94|33.40|50.38|\n",
            "|0.07| 0.00| 2.18|0.00|0.46|7.15|54.20|6.06|3.00|222.00|  18.70| 396.9| 5.33|36.20|59.62|\n",
            "+----+-----+-----+----+----+----+-----+----+----+------+-------+------+-----+-----+-----+\n",
            "only showing top 5 rows\n",
            "\n"
          ]
        }
      ]
    },
    {
      "cell_type": "code",
      "source": [
        "# 8. Plot histogram Age10 column on a 2D Plot\n",
        "import matplotlib.pyplot as plt\n",
        "plot_age10 = df_age.select('Age10').rdd.flatMap(lambda x: x).collect()\n",
        "plt.hist(plot_age10, bins=20, color='cyan', edgecolor='black')\n",
        "plt.title('Histogram of Age10')\n",
        "plt.xlabel('Age10')\n",
        "plt.ylabel('Frequency')\n",
        "plt.show()"
      ],
      "metadata": {
        "colab": {
          "base_uri": "https://localhost:8080/",
          "height": 472
        },
        "id": "oPlW6WPRMqxI",
        "outputId": "d681c6c1-0027-452d-f3f1-5585c1dad9c7"
      },
      "execution_count": 53,
      "outputs": [
        {
          "output_type": "display_data",
          "data": {
            "text/plain": [
              "<Figure size 640x480 with 1 Axes>"
            ],
            "image/png": "[encoded data removed]"
          },
          "metadata": {}
        }
      ]
    },
    {
      "cell_type": "code",
      "source": [
        "#9. Provide Summary Statistics of all columns (count, mean, stddev,min, max)\n",
        "df.summary('count', 'mean', 'stddev', 'min', 'max').show()"
      ],
      "metadata": {
        "id": "Rb8c9ATlMNr1",
        "colab": {
          "base_uri": "https://localhost:8080/"
        },
        "outputId": "e6cf062f-abd0-479c-f085-c4d34ce79257"
      },
      "execution_count": 54,
      "outputs": [
        {
          "output_type": "stream",
          "name": "stdout",
          "text": [
            "+-------+------------------+------------------+------------------+------------------+-------------------+------------------+------------------+------------------+-----------------+------------------+------------------+------------------+------------------+------------------+\n",
            "|summary|              crim|                zn|             indus|              chas|                nox|                rm|               age|               dis|              rad|               tax|           ptratio|                 b|             lstat|              medv|\n",
            "+-------+------------------+------------------+------------------+------------------+-------------------+------------------+------------------+------------------+-----------------+------------------+------------------+------------------+------------------+------------------+\n",
            "|  count|               506|               506|               506|               506|                506|               506|               506|               506|              506|               506|               506|               506|               506|               506|\n",
            "|   mean|3.6134189723320147|11.363636363636363|11.136778656126504|0.0691699604743083| 0.5542292490118577| 6.284683794466401| 68.57490118577078| 3.795355731225294|9.549407114624506| 408.2371541501976|18.455533596837967|356.67403162055257|12.653063241106723|22.532806324110698|\n",
            "| stddev| 8.601602243696705| 23.32245299451514| 6.860352940897589|0.2539940413404101|0.11540500707357855|0.7026163261668962|28.148861406903595|2.1057635128889975|8.707259384239366|168.53711605495903|2.1649455237144455| 91.29486438415782| 7.141061511348571| 9.197104087379815|\n",
            "|    min|              0.01|              0.00|              0.46|              0.00|               0.39|              3.56|             10.00|              1.13|             1.00|            187.00|             12.60|              0.32|              1.73|             10.20|\n",
            "|    max|              9.97|             95.00|              9.90|              1.00|               0.87|              8.78|             99.30|              9.22|             8.00|            711.00|             22.00|             396.9|              9.97|              9.70|\n",
            "+-------+------------------+------------------+------------------+------------------+-------------------+------------------+------------------+------------------+-----------------+------------------+------------------+------------------+------------------+------------------+\n",
            "\n"
          ]
        }
      ]
    },
    {
      "cell_type": "code",
      "source": [
        "#10. Convert  Spark Dataframe to Pandas Dataframe\n",
        "pandas_df = df.toPandas()"
      ],
      "metadata": {
        "id": "0jH_j3oZMTVC"
      },
      "execution_count": 55,
      "outputs": []
    },
    {
      "cell_type": "code",
      "source": [
        "#11. Show the last 5 rows of Pandas DataFrame\n",
        "print(pandas_df.tail(5))"
      ],
      "metadata": {
        "id": "_3HLID-8Maut",
        "colab": {
          "base_uri": "https://localhost:8080/"
        },
        "outputId": "366d1d38-c5ba-4b5c-d0fd-d686c2867fb8"
      },
      "execution_count": 56,
      "outputs": [
        {
          "output_type": "stream",
          "name": "stdout",
          "text": [
            "     crim    zn  indus  chas   nox    rm    age   dis   rad     tax ptratio  \\\n",
            "501  0.06  0.00  11.93  0.00  0.57  6.59  69.10  2.48  1.00  273.00   21.00   \n",
            "502  0.05  0.00  11.93  0.00  0.57  6.12  76.70  2.29  1.00  273.00   21.00   \n",
            "503  0.06  0.00  11.93  0.00  0.57  6.98  91.00  2.17  1.00  273.00   21.00   \n",
            "504  0.11  0.00  11.93  0.00  0.57  6.79  89.30  2.39  1.00  273.00   21.00   \n",
            "505  0.05  0.00  11.93  0.00  0.57  6.03  80.80  2.50  1.00  273.00   21.00   \n",
            "\n",
            "          b lstat   medv  \n",
            "501  391.99  9.67  22.40  \n",
            "502  396.90  9.08  20.60  \n",
            "503  396.90  5.64  23.90  \n",
            "504  393.45  6.48  22.00  \n",
            "505  396.90  7.88  11.90  \n"
          ]
        }
      ]
    },
    {
      "cell_type": "code",
      "source": [
        "spark.stop()"
      ],
      "metadata": {
        "id": "PfW7J_QyZJUZ"
      },
      "execution_count": null,
      "outputs": []
    }
  ]
}